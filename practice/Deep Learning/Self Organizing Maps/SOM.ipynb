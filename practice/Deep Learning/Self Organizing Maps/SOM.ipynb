{
  "nbformat": 4,
  "nbformat_minor": 0,
  "metadata": {
    "colab": {
      "name": "Copy of SOM.ipynb",
      "provenance": [],
      "collapsed_sections": [],
      "toc_visible": true,
      "include_colab_link": true
    },
    "kernelspec": {
      "name": "python3",
      "display_name": "Python 3"
    }
  },
  "cells": [
    {
      "cell_type": "markdown",
      "metadata": {
        "id": "view-in-github",
        "colab_type": "text"
      },
      "source": [
        "<a href=\"https://colab.research.google.com/github/ultimatecrack/machine-learning/blob/master/practice/Deep%20Learning/Self%20Organizing%20Maps/SOM.ipynb\" target=\"_parent\"><img src=\"https://colab.research.google.com/assets/colab-badge.svg\" alt=\"Open In Colab\"/></a>"
      ]
    },
    {
      "cell_type": "markdown",
      "metadata": {
        "id": "t9oX7AL3nyLm",
        "colab_type": "text"
      },
      "source": [
        "#Self Organizing Map"
      ]
    },
    {
      "cell_type": "markdown",
      "metadata": {
        "id": "r9maNhdd65pB",
        "colab_type": "text"
      },
      "source": [
        "##Install MiniSom Package"
      ]
    },
    {
      "cell_type": "code",
      "metadata": {
        "id": "1KB28WUso0Bj",
        "colab_type": "code",
        "colab": {
          "base_uri": "https://localhost:8080/",
          "height": 34
        },
        "outputId": "d0af6cbb-08f2-4ae8-c0d3-ab7bd67c0595"
      },
      "source": [
        "!pip install MiniSom"
      ],
      "execution_count": 87,
      "outputs": [
        {
          "output_type": "stream",
          "text": [
            "Requirement already satisfied: MiniSom in /usr/local/lib/python3.6/dist-packages (2.2.6)\n"
          ],
          "name": "stdout"
        }
      ]
    },
    {
      "cell_type": "markdown",
      "metadata": {
        "id": "6AX0Y23PnyOI",
        "colab_type": "text"
      },
      "source": [
        "### Importing the libraries\n"
      ]
    },
    {
      "cell_type": "code",
      "metadata": {
        "id": "gaSkOFKKBB3b",
        "colab_type": "code",
        "colab": {}
      },
      "source": [
        "import numpy as np\n",
        "import pandas as pd\n",
        "import matplotlib.pyplot as plt"
      ],
      "execution_count": 88,
      "outputs": []
    },
    {
      "cell_type": "markdown",
      "metadata": {
        "id": "SCl7ERn_n539",
        "colab_type": "text"
      },
      "source": [
        "## Importing the dataset"
      ]
    },
    {
      "cell_type": "code",
      "metadata": {
        "id": "4hgeaN3CoRfl",
        "colab_type": "code",
        "colab": {}
      },
      "source": [
        "dataset = pd.read_csv('Credit_Card_Applications.csv')\n",
        "X = dataset.iloc[:, :-1].values \n",
        "y = dataset.iloc[:, -1].values"
      ],
      "execution_count": 89,
      "outputs": []
    },
    {
      "cell_type": "code",
      "metadata": {
        "id": "zy1-Zc9I8dSK",
        "colab_type": "code",
        "colab": {
          "base_uri": "https://localhost:8080/",
          "height": 238
        },
        "outputId": "8299ccd9-8333-475b-8b2d-b17425d8999a"
      },
      "source": [
        "X"
      ],
      "execution_count": 90,
      "outputs": [
        {
          "output_type": "execute_result",
          "data": {
            "text/plain": [
              "array([[1.5776156e+07, 1.0000000e+00, 2.2080000e+01, ..., 2.0000000e+00,\n",
              "        1.0000000e+02, 1.2130000e+03],\n",
              "       [1.5739548e+07, 0.0000000e+00, 2.2670000e+01, ..., 2.0000000e+00,\n",
              "        1.6000000e+02, 1.0000000e+00],\n",
              "       [1.5662854e+07, 0.0000000e+00, 2.9580000e+01, ..., 2.0000000e+00,\n",
              "        2.8000000e+02, 1.0000000e+00],\n",
              "       ...,\n",
              "       [1.5675450e+07, 0.0000000e+00, 1.8830000e+01, ..., 2.0000000e+00,\n",
              "        1.0000000e+02, 1.0000000e+00],\n",
              "       [1.5776494e+07, 0.0000000e+00, 2.7420000e+01, ..., 2.0000000e+00,\n",
              "        1.2000000e+02, 1.2000000e+01],\n",
              "       [1.5592412e+07, 1.0000000e+00, 4.1000000e+01, ..., 1.0000000e+00,\n",
              "        5.6000000e+02, 1.0000000e+00]])"
            ]
          },
          "metadata": {
            "tags": []
          },
          "execution_count": 90
        }
      ]
    },
    {
      "cell_type": "markdown",
      "metadata": {
        "id": "fYHJ0dd6n-d4",
        "colab_type": "text"
      },
      "source": [
        "## Feature Scaling\n"
      ]
    },
    {
      "cell_type": "code",
      "metadata": {
        "id": "sY7JiUxwoSOd",
        "colab_type": "code",
        "colab": {}
      },
      "source": [
        "from sklearn.preprocessing import MinMaxScaler\n",
        "sc = MinMaxScaler(feature_range = (0,1))\n",
        "X = sc.fit_transform(X)"
      ],
      "execution_count": 91,
      "outputs": []
    },
    {
      "cell_type": "markdown",
      "metadata": {
        "id": "aPp-7wfNoAhR",
        "colab_type": "text"
      },
      "source": [
        "##Training the SOM\n"
      ]
    },
    {
      "cell_type": "code",
      "metadata": {
        "id": "3iuAhM6ooS0k",
        "colab_type": "code",
        "colab": {}
      },
      "source": [
        "from minisom import MiniSom\n",
        "som = MiniSom(x=10, y=10, input_len= 15, sigma= 1.0, learning_rate = 0.5)\n",
        "som.random_weights_init(X)\n",
        "som.train_random(data = X, num_iteration = 100)"
      ],
      "execution_count": 92,
      "outputs": []
    },
    {
      "cell_type": "markdown",
      "metadata": {
        "id": "YiU27C-ToCnH",
        "colab_type": "text"
      },
      "source": [
        "##Visualizing the results\n"
      ]
    },
    {
      "cell_type": "code",
      "metadata": {
        "id": "XzrIX4fZoTQj",
        "colab_type": "code",
        "colab": {
          "base_uri": "https://localhost:8080/",
          "height": 269
        },
        "outputId": "0517b07a-7bda-44f4-af3f-5f93996eb69f"
      },
      "source": [
        "from pylab import bone, pcolor, colorbar, plot, show\n",
        "bone()\n",
        "pcolor(som.distance_map().T)\n",
        "colorbar()\n",
        "markers = ['o', 's']\n",
        "colors = ['r', 'g']\n",
        "for i, x in enumerate(X):\n",
        "    w = som.winner(x)\n",
        "    plot(w[0] + 0.5,\n",
        "         w[1] + 0.5,\n",
        "         markers[y[i]],\n",
        "         markeredgecolor = colors[y[i]],\n",
        "         markerfacecolor = 'None',\n",
        "         markersize = 10,\n",
        "         markeredgewidth = 2)\n",
        "show()"
      ],
      "execution_count": 93,
      "outputs": [
        {
          "output_type": "display_data",
          "data": {
            "image/png": "[encoded data removed]",
            "text/plain": [
              "<Figure size 432x288 with 2 Axes>"
            ]
          },
          "metadata": {
            "tags": [],
            "needs_background": "light"
          }
        }
      ]
    },
    {
      "cell_type": "markdown",
      "metadata": {
        "id": "4C-I_jBfoEkP",
        "colab_type": "text"
      },
      "source": [
        "## Finding the frauds\n"
      ]
    },
    {
      "cell_type": "code",
      "metadata": {
        "id": "4xd-jb8doTlM",
        "colab_type": "code",
        "colab": {}
      },
      "source": [
        "mappings = som.win_map(X)\n",
        "frauds = np.concatenate((mappings[(8,6)], mappings[(8,9)]), axis = 0)\n",
        "frauds = sc.inverse_transform(frauds)"
      ],
      "execution_count": 95,
      "outputs": []
    },
    {
      "cell_type": "code",
      "metadata": {
        "id": "R22395tFeBNd",
        "colab_type": "code",
        "colab": {
          "base_uri": "https://localhost:8080/",
          "height": 1000
        },
        "outputId": "421f006c-2d4b-465f-828f-137d7f46d366"
      },
      "source": [
        "frauds"
      ],
      "execution_count": 96,
      "outputs": [
        {
          "output_type": "execute_result",
          "data": {
            "text/plain": [
              "array([[1.5813718e+07, 1.0000000e+00, 4.2830000e+01, 1.2500000e+00,\n",
              "        2.0000000e+00, 7.0000000e+00, 4.0000000e+00, 1.3875000e+01,\n",
              "        0.0000000e+00, 1.0000000e+00, 1.0000000e+00, 1.0000000e+00,\n",
              "        2.0000000e+00, 3.5200000e+02, 1.1300000e+02],\n",
              "       [1.5815271e+07, 1.0000000e+00, 2.7580000e+01, 3.2500000e+00,\n",
              "        1.0000000e+00, 1.1000000e+01, 8.0000000e+00, 5.0850000e+00,\n",
              "        0.0000000e+00, 1.0000000e+00, 2.0000000e+00, 1.0000000e+00,\n",
              "        2.0000000e+00, 3.6900000e+02, 2.0000000e+00],\n",
              "       [1.5744273e+07, 1.0000000e+00, 2.2670000e+01, 7.5000000e-01,\n",
              "        2.0000000e+00, 3.0000000e+00, 4.0000000e+00, 1.5850000e+00,\n",
              "        0.0000000e+00, 1.0000000e+00, 1.0000000e+00, 1.0000000e+00,\n",
              "        2.0000000e+00, 4.0000000e+02, 1.0000000e+01],\n",
              "       [1.5773934e+07, 1.0000000e+00, 3.2920000e+01, 2.5000000e+00,\n",
              "        2.0000000e+00, 6.0000000e+00, 4.0000000e+00, 1.7500000e+00,\n",
              "        0.0000000e+00, 1.0000000e+00, 2.0000000e+00, 1.0000000e+00,\n",
              "        2.0000000e+00, 7.2000000e+02, 1.0000000e+00],\n",
              "       [1.5694237e+07, 1.0000000e+00, 2.9580000e+01, 4.7500000e+00,\n",
              "        2.0000000e+00, 7.0000000e+00, 4.0000000e+00, 2.0000000e+00,\n",
              "        0.0000000e+00, 1.0000000e+00, 1.0000000e+00, 1.0000000e+00,\n",
              "        2.0000000e+00, 4.6000000e+02, 6.9000000e+01],\n",
              "       [1.5805627e+07, 1.0000000e+00, 2.7830000e+01, 1.5000000e+00,\n",
              "        2.0000000e+00, 9.0000000e+00, 4.0000000e+00, 2.2500000e+00,\n",
              "        0.0000000e+00, 1.0000000e+00, 1.0000000e+00, 1.0000000e+00,\n",
              "        2.0000000e+00, 1.0000000e+02, 4.0000000e+00],\n",
              "       [1.5692718e+07, 1.0000000e+00, 2.2170000e+01, 1.2125000e+01,\n",
              "        2.0000000e+00, 8.0000000e+00, 4.0000000e+00, 3.3350000e+00,\n",
              "        0.0000000e+00, 1.0000000e+00, 2.0000000e+00, 1.0000000e+00,\n",
              "        2.0000000e+00, 1.8000000e+02, 1.7400000e+02],\n",
              "       [1.5789865e+07, 1.0000000e+00, 1.8170000e+01, 2.4600000e+00,\n",
              "        2.0000000e+00, 8.0000000e+00, 7.0000000e+00, 9.6000000e-01,\n",
              "        0.0000000e+00, 1.0000000e+00, 2.0000000e+00, 1.0000000e+00,\n",
              "        2.0000000e+00, 1.6000000e+02, 5.8800000e+02],\n",
              "       [1.5757933e+07, 1.0000000e+00, 3.1080000e+01, 3.0850000e+00,\n",
              "        2.0000000e+00, 8.0000000e+00, 4.0000000e+00, 2.5000000e+00,\n",
              "        0.0000000e+00, 1.0000000e+00, 2.0000000e+00, 1.0000000e+00,\n",
              "        2.0000000e+00, 1.6000000e+02, 4.2000000e+01],\n",
              "       [1.5677395e+07, 1.0000000e+00, 1.9330000e+01, 1.0915000e+01,\n",
              "        2.0000000e+00, 8.0000000e+00, 5.0000000e+00, 5.8500000e-01,\n",
              "        0.0000000e+00, 1.0000000e+00, 2.0000000e+00, 1.0000000e+00,\n",
              "        2.0000000e+00, 2.0000000e+02, 8.0000000e+00],\n",
              "       [1.5810716e+07, 1.0000000e+00, 2.3500000e+01, 3.1650000e+00,\n",
              "        1.0000000e+00, 4.0000000e+00, 4.0000000e+00, 4.1500000e-01,\n",
              "        0.0000000e+00, 1.0000000e+00, 1.0000000e+00, 1.0000000e+00,\n",
              "        2.0000000e+00, 2.8000000e+02, 8.1000000e+01],\n",
              "       [1.5767264e+07, 1.0000000e+00, 7.4830000e+01, 1.9000000e+01,\n",
              "        1.0000000e+00, 1.0000000e+00, 1.0000000e+00, 4.0000000e-02,\n",
              "        0.0000000e+00, 1.0000000e+00, 2.0000000e+00, 0.0000000e+00,\n",
              "        2.0000000e+00, 0.0000000e+00, 3.5200000e+02],\n",
              "       [1.5573798e+07, 1.0000000e+00, 3.2250000e+01, 1.4000000e+01,\n",
              "        1.0000000e+00, 1.0000000e+00, 1.0000000e+00, 0.0000000e+00,\n",
              "        0.0000000e+00, 1.0000000e+00, 2.0000000e+00, 0.0000000e+00,\n",
              "        2.0000000e+00, 1.6000000e+02, 2.0000000e+00],\n",
              "       [1.5593694e+07, 1.0000000e+00, 5.5920000e+01, 1.1500000e+01,\n",
              "        2.0000000e+00, 1.0000000e+00, 1.0000000e+00, 5.0000000e+00,\n",
              "        1.0000000e+00, 1.0000000e+00, 5.0000000e+00, 0.0000000e+00,\n",
              "        2.0000000e+00, 0.0000000e+00, 8.8520000e+03],\n",
              "       [1.5647295e+07, 1.0000000e+00, 6.9170000e+01, 9.0000000e+00,\n",
              "        2.0000000e+00, 1.0000000e+00, 1.0000000e+00, 4.0000000e+00,\n",
              "        0.0000000e+00, 1.0000000e+00, 1.0000000e+00, 0.0000000e+00,\n",
              "        2.0000000e+00, 7.0000000e+01, 7.0000000e+00]])"
            ]
          },
          "metadata": {
            "tags": []
          },
          "execution_count": 96
        }
      ]
    },
    {
      "cell_type": "markdown",
      "metadata": {
        "id": "frXqAlpo84b1",
        "colab_type": "text"
      },
      "source": [
        "##Printing the Fraunch Clients"
      ]
    },
    {
      "cell_type": "code",
      "metadata": {
        "id": "54a4NnJo8761",
        "colab_type": "code",
        "colab": {
          "base_uri": "https://localhost:8080/",
          "height": 289
        },
        "outputId": "0e290c70-6e54-4138-e90f-808952c1f023"
      },
      "source": [
        "print('Fraud Customer IDs')\n",
        "for i in frauds[:, 0]:\n",
        "  print(int(i))"
      ],
      "execution_count": 97,
      "outputs": [
        {
          "output_type": "stream",
          "text": [
            "Fraud Customer IDs\n",
            "15813718\n",
            "15815271\n",
            "15744273\n",
            "15773934\n",
            "15694237\n",
            "15805627\n",
            "15692718\n",
            "15789865\n",
            "15757933\n",
            "15677395\n",
            "15810716\n",
            "15767264\n",
            "15573798\n",
            "15593694\n",
            "15647295\n"
          ],
          "name": "stdout"
        }
      ]
    }
  ]
}